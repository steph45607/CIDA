{
 "cells": [
  {
   "cell_type": "code",
   "execution_count": 4,
   "metadata": {},
   "outputs": [],
   "source": [
    "import pandas as pd\n",
    "import numpy as np"
   ]
  },
  {
   "cell_type": "code",
   "execution_count": 5,
   "metadata": {},
   "outputs": [],
   "source": [
    "df = pd.read_csv(\"emotions_cleaned smaller.csv\")\n",
    "# df = pd.read_csv(\"Dry_Bean_Dataset.csv\")\n",
    "df.head()\n",
    "df = df.fillna(0)"
   ]
  },
  {
   "cell_type": "code",
   "execution_count": 6,
   "metadata": {},
   "outputs": [
    {
     "name": "stdout",
     "output_type": "stream",
     "text": [
      "0        i just feel really helpless and heavy hearted\n",
      "1    ive enjoyed being able to slouch about relax a...\n",
      "2    i gave up my internship with the dmrg and am f...\n",
      "3                           i dont know i feel so lost\n",
      "4    i am a kindergarten teacher and i am thoroughl...\n",
      "Name: text, dtype: object\n",
      "0    4\n",
      "1    0\n",
      "2    4\n",
      "3    0\n",
      "4    4\n",
      "Name: label, dtype: int64\n"
     ]
    }
   ],
   "source": [
    "X = df.text\n",
    "y = df.label\n",
    "# X = X.toarray()\n",
    "print(X.head())\n",
    "print(y.head())"
   ]
  },
  {
   "cell_type": "code",
   "execution_count": 7,
   "metadata": {},
   "outputs": [
    {
     "name": "stdout",
     "output_type": "stream",
     "text": [
      "<class 'pandas.core.frame.DataFrame'>\n",
      "RangeIndex: 104203 entries, 0 to 104202\n",
      "Data columns (total 3 columns):\n",
      " #   Column      Non-Null Count   Dtype \n",
      "---  ------      --------------   ----- \n",
      " 0   Unnamed: 0  104203 non-null  int64 \n",
      " 1   text        104203 non-null  object\n",
      " 2   label       104203 non-null  int64 \n",
      "dtypes: int64(2), object(1)\n",
      "memory usage: 2.4+ MB\n"
     ]
    }
   ],
   "source": [
    "df.info()"
   ]
  },
  {
   "cell_type": "code",
   "execution_count": 8,
   "metadata": {},
   "outputs": [
    {
     "name": "stdout",
     "output_type": "stream",
     "text": [
      "(104203,)\n",
      "(93782,)\n",
      "(10421,)\n"
     ]
    }
   ],
   "source": [
    "from sklearn.model_selection import train_test_split\n",
    "X_train, X_test, y_train, y_test = train_test_split(X,y,test_size = 0.10,\n",
    "                                                    random_state =0)\n",
    "print(X.shape)\n",
    "print(X_train.shape)\n",
    "print(X_test.shape)"
   ]
  },
  {
   "cell_type": "code",
   "execution_count": 9,
   "metadata": {},
   "outputs": [
    {
     "name": "stdout",
     "output_type": "stream",
     "text": [
      "No. of feature_words:  441234\n"
     ]
    }
   ],
   "source": [
    "from sklearn.feature_extraction.text import TfidfVectorizer\n",
    "vectoriser = TfidfVectorizer(ngram_range=(1,2))\n",
    "vectoriser.fit(X_train)\n",
    "print('No. of feature_words: ', len(vectoriser.get_feature_names()))"
   ]
  },
  {
   "cell_type": "code",
   "execution_count": 10,
   "metadata": {},
   "outputs": [
    {
     "name": "stdout",
     "output_type": "stream",
     "text": [
      "(93782, 441234)\n",
      "(10421, 441234)\n"
     ]
    }
   ],
   "source": [
    "X_train = vectoriser.transform(X_train)\n",
    "X_test  = vectoriser.transform(X_test)\n",
    "print(X_train.shape)\n",
    "print(X_test.shape)"
   ]
  },
  {
   "cell_type": "code",
   "execution_count": 11,
   "metadata": {},
   "outputs": [],
   "source": [
    "# print(X_train)\n",
    "# print(type(X_test))\n",
    "# X_test = X_test.todense()\n",
    "# X_train = X_train.todense()\n",
    "X_train = X_train.toarray()\n",
    "X_test = X_test.toarray()"
   ]
  },
  {
   "cell_type": "code",
   "execution_count": 12,
   "metadata": {},
   "outputs": [
    {
     "ename": "",
     "evalue": "",
     "output_type": "error",
     "traceback": [
      "\u001b[1;31mThe Kernel crashed while executing code in the current cell or a previous cell. \n",
      "\u001b[1;31mPlease review the code in the cell(s) to identify a possible cause of the failure. \n",
      "\u001b[1;31mClick <a href='https://aka.ms/vscodeJupyterKernelCrash'>here</a> for more info. \n",
      "\u001b[1;31mView Jupyter <a href='command:jupyter.viewOutput'>log</a> for further details."
     ]
    }
   ],
   "source": [
    "from sklearn.naive_bayes import GaussianNB\n",
    "model = GaussianNB()\n",
    "model.fit(X_train, y_train)\n",
    "y_pred = model.predict(X_test)"
   ]
  },
  {
   "cell_type": "code",
   "execution_count": 10,
   "metadata": {},
   "outputs": [
    {
     "name": "stdout",
     "output_type": "stream",
     "text": [
      "Confusion Matrix:\n",
      "[[2625  259   20   69   60    4]\n",
      " [ 516 2796  114   64   49   11]\n",
      " [ 185  270  386   22    8    2]\n",
      " [ 343  169   21  815   37    3]\n",
      " [ 256  176   17   67  647   37]\n",
      " [  82   84    8    9   46  144]]\n",
      "Classification Report:\n",
      "              precision    recall  f1-score   support\n",
      "\n",
      "           0       0.66      0.86      0.75      3037\n",
      "           1       0.74      0.79      0.77      3550\n",
      "           2       0.68      0.44      0.54       873\n",
      "           3       0.78      0.59      0.67      1388\n",
      "           4       0.76      0.54      0.63      1200\n",
      "           5       0.72      0.39      0.50       373\n",
      "\n",
      "    accuracy                           0.71     10421\n",
      "   macro avg       0.72      0.60      0.64     10421\n",
      "weighted avg       0.72      0.71      0.70     10421\n",
      "\n",
      "Accuracy: 0.7113520775357451\n"
     ]
    }
   ],
   "source": [
    "from sklearn.metrics import classification_report, confusion_matrix, accuracy_score\n",
    "result = confusion_matrix(y_test, ypred)\n",
    "print(\"Confusion Matrix:\")\n",
    "print(result)\n",
    "result1 = classification_report(y_test, ypred)\n",
    "print(\"Classification Report:\")\n",
    "print (result1)\n",
    "result2 = accuracy_score(y_test,ypred)\n",
    "print(\"Accuracy:\",result2)"
   ]
  },
  {
   "cell_type": "code",
   "execution_count": 14,
   "metadata": {},
   "outputs": [
    {
     "name": "stdout",
     "output_type": "stream",
     "text": [
      "Accuracy Score        :  0.7113520775357451\n",
      "Classification Report : \n",
      "               precision    recall  f1-score   support\n",
      "\n",
      "           0       0.66      0.86      0.75      3037\n",
      "           1       0.74      0.79      0.77      3550\n",
      "           2       0.68      0.44      0.54       873\n",
      "           3       0.78      0.59      0.67      1388\n",
      "           4       0.76      0.54      0.63      1200\n",
      "           5       0.72      0.39      0.50       373\n",
      "\n",
      "    accuracy                           0.71     10421\n",
      "   macro avg       0.72      0.60      0.64     10421\n",
      "weighted avg       0.72      0.71      0.70     10421\n",
      "\n"
     ]
    },
    {
     "data": {
      "text/plain": [
       "<Axes: >"
      ]
     },
     "execution_count": 14,
     "metadata": {},
     "output_type": "execute_result"
    },
    {
     "data": {
      "image/png": "[encoded data removed]",
      "text/plain": [
       "<Figure size 432x288 with 2 Axes>"
      ]
     },
     "metadata": {
      "needs_background": "light"
     },
     "output_type": "display_data"
    }
   ],
   "source": [
    "from sklearn.metrics import accuracy_score,confusion_matrix, classification_report\n",
    "print(\"Accuracy Score        : \",accuracy_score(y_test, ypred))\n",
    "print(\"Classification Report : \\n\", classification_report(y_test, ypred))\n",
    "cfm=confusion_matrix(y_test,ypred)\n",
    "import seaborn as sns\n",
    "sns.heatmap(cfm,annot=True,fmt='',linewidths=0.5)"
   ]
  }
 ],
 "metadata": {
  "kernelspec": {
   "display_name": "base",
   "language": "python",
   "name": "python3"
  },
  "language_info": {
   "codemirror_mode": {
    "name": "ipython",
    "version": 3
   },
   "file_extension": ".py",
   "mimetype": "text/x-python",
   "name": "python",
   "nbconvert_exporter": "python",
   "pygments_lexer": "ipython3",
   "version": "3.8.8"
  }
 },
 "nbformat": 4,
 "nbformat_minor": 2
}
